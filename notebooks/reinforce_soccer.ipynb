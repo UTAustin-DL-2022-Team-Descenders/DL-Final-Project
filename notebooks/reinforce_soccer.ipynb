{
 "cells": [
  {
   "cell_type": "code",
   "execution_count": null,
   "id": "2c5a3d06",
   "metadata": {},
   "outputs": [],
   "source": [
    "%load_ext autoreload\n",
    "%autoreload 2\n",
    "%matplotlib inline\n",
    "import torch\n",
    "import sys, os\n",
    "import pystk\n",
    "import ray\n",
    "device = torch.device('cuda') if torch.cuda.is_available() else torch.device('cpu')\n",
    "print('device = ', device)\n",
    "ray.init(logging_level=50)"
   ]
  },
  {
   "cell_type": "code",
   "execution_count": null,
   "id": "b9d028f9",
   "metadata": {},
   "outputs": [],
   "source": [
    "from utils.soccer_actors import Agent, SteeringActor, DriftActor, SpeedActor\n",
    "from utils.utils import run_soccer_agent, rollout_many, show_trajectory_histogram\n",
    "from utils.rewards import SoccerBallDistanceObjective\n",
    "import numpy as np"
   ]
  },
  {
   "cell_type": "code",
   "execution_count": null,
   "id": "f7d0f9f3",
   "metadata": {},
   "outputs": [],
   "source": [
    "data = run_soccer_agent(Agent(SteeringActor(), train=True))"
   ]
  },
  {
   "cell_type": "code",
   "execution_count": null,
   "id": "f6b9a6b1",
   "metadata": {},
   "outputs": [],
   "source": [
    "def get_initializations(actor_class):    \n",
    "    distance_objective = SoccerBallDistanceObjective(150)\n",
    "    many_actors = [actor_class() for i in range(100)]\n",
    "\n",
    "    data = rollout_many([\n",
    "        Agent(actor, accel=0.05) for actor in many_actors\n",
    "    ], mode=\"soccer\", n_steps=600)\n",
    "\n",
    "    good_initialization = many_actors[ np.argmax([distance_objective.calculate_state_score(d[-1]) for d in data]) ]\n",
    "    bad_initialization = many_actors[ np.argmin([distance_objective.calculate_state_score(d[-1]) for d in data]) ]\n",
    "    \n",
    "    return good_initialization, bad_initialization\n",
    "\n",
    "good_initialization, _ = get_initializations(SteeringActor)"
   ]
  },
  {
   "cell_type": "code",
   "execution_count": null,
   "id": "5e2b9808",
   "metadata": {},
   "outputs": [],
   "source": [
    "data = run_soccer_agent(Agent(good_initialization, accel=0.05))"
   ]
  },
  {
   "cell_type": "code",
   "execution_count": null,
   "id": "83bfd4d8",
   "metadata": {},
   "outputs": [],
   "source": [
    "from utils.reinforce import reinforce\n",
    "from utils.utils import SoccerReinforcementConfiguration\n",
    "\n",
    "import copy\n",
    "\n",
    "#good_initialization = best_steering_net\n",
    "action_net = copy.deepcopy(good_initialization.action_net)\n",
    "actors = [SteeringActor(action_net)]\n",
    "\n",
    "def gen_agent(*args, **kwargs):\n",
    "    return Agent(*args, accel=0.05, target_speed=10.0, **kwargs)\n",
    "\n",
    "# configuration\n",
    "config = SoccerReinforcementConfiguration()\n",
    "config.agent = gen_agent\n",
    "\n",
    "# iterations is high relatively here to help force a good outcome from a bad initialization\n",
    "best_steering_net = reinforce(actors[0], actors, config, \n",
    "                              n_epochs=5, n_iterations=500, n_trajectories=200, n_validations=100, T=1\n",
    "                    )"
   ]
  },
  {
   "cell_type": "code",
   "execution_count": null,
   "id": "f1343517",
   "metadata": {
    "scrolled": false
   },
   "outputs": [],
   "source": [
    "data = run_soccer_agent(Agent(SteeringActor(best_steering_net), accel=0.1), randomize=True)"
   ]
  },
  {
   "cell_type": "code",
   "execution_count": null,
   "id": "a6ec6474",
   "metadata": {},
   "outputs": [],
   "source": [
    "# train the speed actor\n",
    "\n",
    "good_initialization_speed, _ = get_initializations(SpeedActor)\n",
    "\n",
    "action_net = copy.deepcopy(good_initialization_speed.action_net)\n",
    "actors = [SteeringActor(best_steering_net, train=False), SpeedActor(action_net)]\n",
    "\n",
    "def gen_agent(*args, **kwargs):\n",
    "    speed = np.random.normal(10, 5)\n",
    "    return Agent(*args, target_speed=10.0, **kwargs)\n",
    "\n",
    "# configuration\n",
    "config = SoccerReinforcementConfiguration()\n",
    "config.agent = gen_agent\n",
    "\n",
    "# iterations is high relatively here to help force a good outcome from a bad initialization\n",
    "best_speed_net = reinforce(actors[1], actors, config, \n",
    "                              n_epochs=5, n_iterations=500, n_trajectories=200, n_validations=100, T=1\n",
    "                    )"
   ]
  },
  {
   "cell_type": "code",
   "execution_count": null,
   "id": "a88ab067",
   "metadata": {},
   "outputs": [],
   "source": [
    "data = run_soccer_agent(Agent(SteeringActor(best_steering_net), SpeedActor(action_net), target_speed=11.0), randomize=True)"
   ]
  },
  {
   "cell_type": "code",
   "execution_count": null,
   "id": "f1ce404d",
   "metadata": {},
   "outputs": [],
   "source": []
  }
 ],
 "metadata": {
  "kernelspec": {
   "display_name": "Python 3 (ipykernel)",
   "language": "python",
   "name": "python3"
  },
  "language_info": {
   "codemirror_mode": {
    "name": "ipython",
    "version": 3
   },
   "file_extension": ".py",
   "mimetype": "text/x-python",
   "name": "python",
   "nbconvert_exporter": "python",
   "pygments_lexer": "ipython3",
   "version": "3.9.12"
  }
 },
 "nbformat": 4,
 "nbformat_minor": 5
}
