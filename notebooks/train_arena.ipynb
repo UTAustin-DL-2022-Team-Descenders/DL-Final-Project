{
 "cells": [
  {
   "cell_type": "code",
   "execution_count": null,
   "id": "4bbcdad9",
   "metadata": {},
   "outputs": [],
   "source": [
    "%load_ext autoreload\n",
    "%autoreload 2\n",
    "%matplotlib inline\n",
    "import torch\n",
    "import sys, os\n",
    "import pystk\n",
    "import ray\n",
    "device = torch.device('cuda') if torch.cuda.is_available() else torch.device('cpu')\n",
    "print('device = ', device)\n",
    "ray.init(logging_level=50)"
   ]
  },
  {
   "cell_type": "code",
   "execution_count": null,
   "id": "5f3b6227",
   "metadata": {},
   "outputs": [],
   "source": [
    "from state_agent.agents.subnets.actors import SteeringActor, DriftActor, SpeedActor\n",
    "from state_agent.agents.subnets.agents import Agent, BaseTeam\n",
    "from state_agent.agents.subnets.utils import run_soccer_agent, rollout_many, show_trajectory_histogram, load_model, save_model\n",
    "from state_agent.agents.subnets.rewards import SoccerBallDistanceObjective\n",
    "from state_agent.trainers.train_policy_gradient import reinforce, SoccerReinforcementConfiguration\n",
    "import numpy as np"
   ]
  },
  {
   "cell_type": "code",
   "execution_count": null,
   "id": "bbe2c706",
   "metadata": {
    "scrolled": false
   },
   "outputs": [],
   "source": [
    "data = run_soccer_agent(Agent(SteeringActor(), train=True))"
   ]
  },
  {
   "cell_type": "code",
   "execution_count": null,
   "id": "0dd2627b",
   "metadata": {},
   "outputs": [],
   "source": [
    "def get_initializations(actor_class):    \n",
    "    distance_objective = SoccerBallDistanceObjective(150)\n",
    "    many_actors = [actor_class() for i in range(100)]\n",
    "\n",
    "    data = rollout_many([\n",
    "        Agent(actor, accel=0.05) for actor in many_actors\n",
    "    ], n_steps=600)\n",
    "\n",
    "    good_initialization = many_actors[ np.argmax([distance_objective.calculate_state_score(d[-1]) for d in data]) ]\n",
    "    bad_initialization = many_actors[ np.argmin([distance_objective.calculate_state_score(d[-1]) for d in data]) ]\n",
    "    \n",
    "    return good_initialization, bad_initialization\n",
    "\n",
    "good_initialization, _ = get_initializations(SteeringActor)"
   ]
  },
  {
   "cell_type": "code",
   "execution_count": null,
   "id": "d571a76c",
   "metadata": {},
   "outputs": [],
   "source": [
    "import copy\n",
    "\n",
    "#good_initialization = best_steering_net\n",
    "action_net = copy.deepcopy(good_initialization.action_net)\n",
    "actors = [SteeringActor(action_net)]\n",
    "\n",
    "def gen_agent(*args, **kwargs):\n",
    "    return Agent(*args, accel=0.05, target_speed=10.0, **kwargs)\n",
    "\n",
    "# configuration\n",
    "config = SoccerReinforcementConfiguration()\n",
    "config.agent = gen_agent\n",
    "\n",
    "# iterations is high relatively here to help force a good outcome from a bad initialization\n",
    "best_steering_net = reinforce(actors[0], actors, config, \n",
    "                              n_epochs=5, n_iterations=500, n_trajectories=200, n_validations=100, T=1\n",
    "                    )"
   ]
  },
  {
   "cell_type": "code",
   "execution_count": null,
   "id": "93bdd3f4",
   "metadata": {},
   "outputs": [],
   "source": [
    "# save the steering actor\n",
    "save_model(best_steering_net, 'modules/steering/agent.pt')"
   ]
  },
  {
   "cell_type": "code",
   "execution_count": null,
   "id": "8d65d970",
   "metadata": {},
   "outputs": [],
   "source": [
    "# train the speed actor\n",
    "\n",
    "good_initialization_speed, _ = get_initializations(SpeedActor)\n",
    "\n",
    "action_net = copy.deepcopy(good_initialization_speed.action_net)\n",
    "actors = [SteeringActor(best_steering_net, train=False), SpeedActor(action_net)]\n",
    "\n",
    "def gen_agent(*args, **kwargs):\n",
    "    reverse = np.random.uniform(0, 1) < 0.1\n",
    "    speed = np.random.normal(10, 5) * (-1.0 if reverse else 1.0)\n",
    "    return Agent(*args, target_speed=speed, **kwargs)\n",
    "\n",
    "# configuration\n",
    "config = SoccerReinforcementConfiguration()\n",
    "config.agent = gen_agent\n",
    "\n",
    "# iterations is high relatively here to help force a good outcome from a bad initialization\n",
    "best_speed_net = reinforce(actors[1], actors, config, \n",
    "                              n_epochs=5, n_iterations=500, n_trajectories=200, n_validations=100, T=1\n",
    "                    )"
   ]
  },
  {
   "cell_type": "code",
   "execution_count": null,
   "id": "2d71f61c",
   "metadata": {
    "scrolled": false
   },
   "outputs": [],
   "source": [
    "data = run_soccer_agent(Agent(SteeringActor(best_steering_net), SpeedActor(action_net), target_speed=6.0), randomize=True)"
   ]
  },
  {
   "cell_type": "code",
   "execution_count": null,
   "id": "32721b24",
   "metadata": {},
   "outputs": [],
   "source": []
  },
  {
   "cell_type": "code",
   "execution_count": null,
   "id": "64c6ac5b",
   "metadata": {},
   "outputs": [],
   "source": [
    "print(best_speed_net)"
   ]
  },
  {
   "cell_type": "code",
   "execution_count": null,
   "id": "56149643",
   "metadata": {},
   "outputs": [],
   "source": []
  }
 ],
 "metadata": {
  "kernelspec": {
   "display_name": "Python 3 (ipykernel)",
   "language": "python",
   "name": "python3"
  },
  "language_info": {
   "codemirror_mode": {
    "name": "ipython",
    "version": 3
   },
   "file_extension": ".py",
   "mimetype": "text/x-python",
   "name": "python",
   "nbconvert_exporter": "python",
   "pygments_lexer": "ipython3",
   "version": "3.9.12"
  }
 },
 "nbformat": 4,
 "nbformat_minor": 5
}
